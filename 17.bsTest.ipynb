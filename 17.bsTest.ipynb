{
 "cells": [
  {
   "cell_type": "markdown",
   "metadata": {},
   "source": [
    "https://www.crummy.com/software/BeautifulSoup/bs4/doc/"
   ]
  },
  {
   "cell_type": "code",
   "execution_count": 1,
   "metadata": {},
   "outputs": [],
   "source": [
    "from bs4 import BeautifulSoup"
   ]
  },
  {
   "cell_type": "code",
   "execution_count": null,
   "metadata": {},
   "outputs": [],
   "source": [
    "# xml : lxml, html.parser, html5lib\n",
    "# html: html5lib"
   ]
  },
  {
   "cell_type": "code",
   "execution_count": 5,
   "metadata": {},
   "outputs": [
    {
     "data": {
      "text/plain": [
       "<kpop>\n",
       "<slist>\n",
       "<song album=\"album1\">\n",
       "<singer>singer1</singer>\n",
       "<title>title1</title>\n",
       "</song>\n",
       "<song album=\"album2\">\n",
       "<singer>singer2</singer>\n",
       "<title>title2</title>\n",
       "</song>\n",
       "<song album=\"album3\">\n",
       "<singer>singer3</singer>\n",
       "<title>title3</title>\n",
       "</song>\n",
       "</slist>\n",
       "</kpop>"
      ]
     },
     "execution_count": 5,
     "metadata": {},
     "output_type": "execute_result"
    }
   ],
   "source": [
    "fp = open( 'data/song.xml' )\n",
    "kpop = BeautifulSoup( fp, 'html.parser' ) # 문자열 --> element 객체로 변환\n",
    "kpop"
   ]
  },
  {
   "cell_type": "code",
   "execution_count": null,
   "metadata": {},
   "outputs": [],
   "source": []
  }
 ],
 "metadata": {
  "kernelspec": {
   "display_name": "Python 3",
   "language": "python",
   "name": "python3"
  },
  "language_info": {
   "codemirror_mode": {
    "name": "ipython",
    "version": 3
   },
   "file_extension": ".py",
   "mimetype": "text/x-python",
   "name": "python",
   "nbconvert_exporter": "python",
   "pygments_lexer": "ipython3",
   "version": "3.8.5"
  }
 },
 "nbformat": 4,
 "nbformat_minor": 4
}
